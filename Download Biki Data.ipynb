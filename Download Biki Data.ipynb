{
 "cells": [
  {
   "cell_type": "code",
   "execution_count": 1,
   "id": "a021b0f1-40aa-4ba1-bbd1-02c1934e298a",
   "metadata": {},
   "outputs": [],
   "source": [
    "API_KEY = \"QopJK73RwNkwj5hfFk1cInN8BDM0pcaVC9hWYXqU\"\n",
    "TRIPS_URL = \"https://valladolid.publicbikesystem.net/customer/v3.0/profile/trips?count=100\"\n",
    "STATIONS_URL = \"https://valladolid.publicbikesystem.net/customer/gbfs/v2/en/station_information\""
   ]
  },
  {
   "cell_type": "code",
   "execution_count": 11,
   "id": "e694345b-a2cf-4bfe-add1-36627e67f71c",
   "metadata": {},
   "outputs": [],
   "source": [
    "import requests\n",
    "import sqlite3\n",
    "\n",
    "con = sqlite3.connect(\"biki.db\")\n",
    "cur = con.cursor()"
   ]
  },
  {
   "cell_type": "code",
   "execution_count": 12,
   "id": "b8fa5a07-adf3-4fc3-bfb5-097a2ac0965c",
   "metadata": {},
   "outputs": [
    {
     "data": {
      "text/plain": [
       "<sqlite3.Cursor at 0x71fdcd11e5c0>"
      ]
     },
     "execution_count": 12,
     "metadata": {},
     "output_type": "execute_result"
    }
   ],
   "source": [
    "cur.execute(\"\"\"\n",
    "    CREATE TABLE IF NOT EXISTS stations (\n",
    "      id INTEGER UNIQUE PRIMARY KEY,\n",
    "      name TEXT,\n",
    "      lat REAL,\n",
    "      lon REAL,\n",
    "      address TEXT,\n",
    "      obcn TEXT,\n",
    "      capacity INTEGER)\"\"\")"
   ]
  },
  {
   "cell_type": "code",
   "execution_count": 13,
   "id": "ee8e0174-d4b7-4dce-a608-0d756f09a373",
   "metadata": {},
   "outputs": [
    {
     "data": {
      "text/plain": [
       "<sqlite3.Cursor at 0x71fdcd11e5c0>"
      ]
     },
     "execution_count": 13,
     "metadata": {},
     "output_type": "execute_result"
    }
   ],
   "source": [
    "cur.execute(\"\"\"\n",
    "    CREATE TABLE IF NOT EXISTS trips (\n",
    "      id INTEGER UNIQUE PRIMARY KEY,\n",
    "      bikeId INTEGER,\n",
    "      startTime TEXT,\n",
    "      startStation INTEGER,\n",
    "      endTime TEXT,\n",
    "      endStation INTEGER,\n",
    "      duration INTEGER,\n",
    "      price INTEGER,\n",
    "      bikeObcn TEXT,\n",
    "      bikeModel TEXT,\n",
    "      bikeMsnbc TEXT,\n",
    "      bikeQrCode TEXT,\n",
    "      FOREIGN KEY(startStation) REFERENCES stations(id),\n",
    "      FOREIGN KEY(endStation) REFERENCES stations(id))\"\"\")"
   ]
  },
  {
   "cell_type": "code",
   "execution_count": 30,
   "id": "c49bf49c-4878-47f7-a380-b0482e10962d",
   "metadata": {},
   "outputs": [],
   "source": [
    "response = requests.get(\"https://valladolid.publicbikesystem.net/customer/gbfs/v2/en/station_information\")\n",
    "stations_data = response.json()[\"data\"][\"stations\"]\n",
    "cur.executemany(\"\"\"\n",
    "    INSERT OR IGNORE INTO stations\n",
    "    VALUES (:station_id, :name, :lat, :lon, :address, :obcn, :capacity)\"\"\", stations_data)\n",
    "con.commit()"
   ]
  },
  {
   "cell_type": "code",
   "execution_count": 1,
   "id": "5cf438c9-f44c-46c4-ad72-914e0ab5953e",
   "metadata": {},
   "outputs": [
    {
     "name": "stdin",
     "output_type": "stream",
     "text": [
      "Usuario de BIKI X\n",
      "Contraseña de BIKI X\n"
     ]
    },
    {
     "ename": "NameError",
     "evalue": "name 'requests' is not defined",
     "output_type": "error",
     "traceback": [
      "\u001b[0;31m---------------------------------------------------------------------------\u001b[0m",
      "\u001b[0;31mNameError\u001b[0m                                 Traceback (most recent call last)",
      "Cell \u001b[0;32mIn[1], line 4\u001b[0m\n\u001b[1;32m      1\u001b[0m user \u001b[38;5;241m=\u001b[39m \u001b[38;5;28minput\u001b[39m(\u001b[38;5;124m\"\u001b[39m\u001b[38;5;124mUsuario de BIKI\u001b[39m\u001b[38;5;124m\"\u001b[39m)\n\u001b[1;32m      2\u001b[0m password \u001b[38;5;241m=\u001b[39m \u001b[38;5;28minput\u001b[39m(\u001b[38;5;124m\"\u001b[39m\u001b[38;5;124mContraseña de BIKI\u001b[39m\u001b[38;5;124m\"\u001b[39m)\n\u001b[0;32m----> 4\u001b[0m response \u001b[38;5;241m=\u001b[39m \u001b[43mrequests\u001b[49m\u001b[38;5;241m.\u001b[39mget(\u001b[38;5;124m\"\u001b[39m\u001b[38;5;124mhttps://valladolid.publicbikesystem.net/customer/v3.0/profile/trips?count=100\u001b[39m\u001b[38;5;124m\"\u001b[39m, headers\u001b[38;5;241m=\u001b[39m{\u001b[38;5;124m\"\u001b[39m\u001b[38;5;124mX-API-KEY\u001b[39m\u001b[38;5;124m\"\u001b[39m: API_KEY}, auth\u001b[38;5;241m=\u001b[39m(user, password))\n",
      "\u001b[0;31mNameError\u001b[0m: name 'requests' is not defined"
     ]
    }
   ],
   "source": [
    "user = input(\"Usuario de BIKI\")\n",
    "password = input(\"Contraseña de BIKI\")\n",
    "\n",
    "response = requests.get(\"https://valladolid.publicbikesystem.net/customer/v3.0/profile/trips?count=100\", headers={\"X-API-KEY\": API_KEY}, auth=(user, password))"
   ]
  },
  {
   "cell_type": "code",
   "execution_count": 31,
   "id": "74b7b986-65c4-4ec2-8fbf-00fc1b32fa7b",
   "metadata": {},
   "outputs": [
    {
     "ename": "KeyError",
     "evalue": "'trips'",
     "output_type": "error",
     "traceback": [
      "\u001b[0;31m---------------------------------------------------------------------------\u001b[0m",
      "\u001b[0;31mKeyError\u001b[0m                                  Traceback (most recent call last)",
      "Cell \u001b[0;32mIn[31], line 17\u001b[0m\n\u001b[1;32m      1\u001b[0m \u001b[38;5;28;01mdef\u001b[39;00m \u001b[38;5;21mmap_trip\u001b[39m(orig):\n\u001b[1;32m      2\u001b[0m     \u001b[38;5;28;01mreturn\u001b[39;00m {\n\u001b[1;32m      3\u001b[0m         \u001b[38;5;124m\"\u001b[39m\u001b[38;5;124mid\u001b[39m\u001b[38;5;124m\"\u001b[39m: orig[\u001b[38;5;124m\"\u001b[39m\u001b[38;5;124mtripId\u001b[39m\u001b[38;5;124m\"\u001b[39m],\n\u001b[1;32m      4\u001b[0m         \u001b[38;5;124m\"\u001b[39m\u001b[38;5;124mbikeId\u001b[39m\u001b[38;5;124m\"\u001b[39m: orig[\u001b[38;5;124m\"\u001b[39m\u001b[38;5;124mbikeId\u001b[39m\u001b[38;5;124m\"\u001b[39m],\n\u001b[0;32m   (...)\u001b[0m\n\u001b[1;32m     14\u001b[0m         \u001b[38;5;124m\"\u001b[39m\u001b[38;5;124mbikeMsnbc\u001b[39m\u001b[38;5;124m\"\u001b[39m: orig[\u001b[38;5;124m\"\u001b[39m\u001b[38;5;124mbike\u001b[39m\u001b[38;5;124m\"\u001b[39m][\u001b[38;5;124m\"\u001b[39m\u001b[38;5;124mmsnbc\u001b[39m\u001b[38;5;124m\"\u001b[39m],\n\u001b[1;32m     15\u001b[0m     }\n\u001b[0;32m---> 17\u001b[0m trips \u001b[38;5;241m=\u001b[39m \u001b[38;5;28mmap\u001b[39m(map_trip, \u001b[43mresponse\u001b[49m\u001b[38;5;241;43m.\u001b[39;49m\u001b[43mjson\u001b[49m\u001b[43m(\u001b[49m\u001b[43m)\u001b[49m\u001b[43m[\u001b[49m\u001b[38;5;124;43m\"\u001b[39;49m\u001b[38;5;124;43mtrips\u001b[39;49m\u001b[38;5;124;43m\"\u001b[39;49m\u001b[43m]\u001b[49m)\n\u001b[1;32m     18\u001b[0m cur\u001b[38;5;241m.\u001b[39mexecutemany(\u001b[38;5;124m\"\"\"\u001b[39m\n\u001b[1;32m     19\u001b[0m \u001b[38;5;124m    INSERT OR IGNORE INTO trips\u001b[39m\n\u001b[1;32m     20\u001b[0m \u001b[38;5;124m    VALUES (:id, :bikeId, :startTime, :startStationId, :endTime, :endStationId, :duration, :price, :bikeObcn, :bikeModel, :bikeMsnbc, :bikeQrCode)\u001b[39m\u001b[38;5;124m\"\"\"\u001b[39m, trips)\n\u001b[1;32m     21\u001b[0m con\u001b[38;5;241m.\u001b[39mcommit()\n",
      "\u001b[0;31mKeyError\u001b[0m: 'trips'"
     ]
    }
   ],
   "source": [
    "def map_trip(orig):\n",
    "    return {\n",
    "        \"id\": orig[\"tripId\"],\n",
    "        \"bikeId\": orig[\"bikeId\"],\n",
    "        \"startTime\": orig[\"startTime\"],\n",
    "        \"startStationId\": orig[\"startStationId\"],\n",
    "        \"endTime\": orig[\"endTime\"],\n",
    "        \"endStationId\": orig[\"endStationId\"],\n",
    "        \"duration\": orig[\"duration\"],\n",
    "        \"price\": int(orig[\"price\"] * 100),\n",
    "        \"bikeQrCode\": orig[\"bikeQrCode\"],\n",
    "        \"bikeModel\": orig[\"bike\"][\"model\"],\n",
    "        \"bikeObcn\": orig[\"bike\"][\"obcn\"],\n",
    "        \"bikeMsnbc\": orig[\"bike\"][\"msnbc\"],\n",
    "    }\n",
    "\n",
    "trips = map(map_trip, response.json()[\"trips\"])\n",
    "cur.executemany(\"\"\"\n",
    "    INSERT OR IGNORE INTO trips\n",
    "    VALUES (:id, :bikeId, :startTime, :startStationId, :endTime, :endStationId, :duration, :price, :bikeObcn, :bikeModel, :bikeMsnbc, :bikeQrCode)\"\"\", trips)\n",
    "con.commit()"
   ]
  },
  {
   "cell_type": "code",
   "execution_count": null,
   "id": "e9bd5ac8-d465-46c0-8efd-e7fef80dc1f0",
   "metadata": {},
   "outputs": [],
   "source": []
  }
 ],
 "metadata": {
  "kernelspec": {
   "display_name": "Python 3 (ipykernel)",
   "language": "python",
   "name": "python3"
  },
  "language_info": {
   "codemirror_mode": {
    "name": "ipython",
    "version": 3
   },
   "file_extension": ".py",
   "mimetype": "text/x-python",
   "name": "python",
   "nbconvert_exporter": "python",
   "pygments_lexer": "ipython3",
   "version": "3.12.6"
  }
 },
 "nbformat": 4,
 "nbformat_minor": 5
}
